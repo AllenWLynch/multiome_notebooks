{
 "cells": [
  {
   "cell_type": "code",
   "execution_count": 1,
   "id": "advisory-landing",
   "metadata": {},
   "outputs": [
    {
     "data": {
      "text/html": [
       "<style>.container { width:100% !important; }</style>"
      ],
      "text/plain": [
       "<IPython.core.display.HTML object>"
      ]
     },
     "metadata": {},
     "output_type": "display_data"
    }
   ],
   "source": [
    "from IPython.core.display import display, HTML\n",
    "display(HTML(\"<style>.container { width:100% !important; }</style>\"))"
   ]
  },
  {
   "cell_type": "code",
   "execution_count": 2,
   "id": "accessible-queue",
   "metadata": {},
   "outputs": [
    {
     "name": "stdout",
     "output_type": "stream",
     "text": [
      ">> clustergrammer2 backend version 0.17.0\n"
     ]
    }
   ],
   "source": [
    "from clustergrammer2 import net\n",
    "import pandas as pd\n",
    "from sklearn.preprocessing import scale"
   ]
  },
  {
   "cell_type": "code",
   "execution_count": 10,
   "id": "preliminary-robin",
   "metadata": {},
   "outputs": [],
   "source": [
    "isd_df = pd.read_csv('t7_isd_df.tsv')\n",
    "\n",
    "isd_df = isd_df.set_index('Unnamed: 0')\n",
    "isd_df.index.name = None\n",
    "\n",
    "isd_df = pd.DataFrame(isd_df.values, index = list(map(eval, isd_df.index)), columns = list(map(eval, isd_df.columns.str.strip('.1').str.strip('.2'))))"
   ]
  },
  {
   "cell_type": "code",
   "execution_count": 14,
   "id": "nervous-optics",
   "metadata": {},
   "outputs": [
    {
     "name": "stdout",
     "output_type": "stream",
     "text": [
      "warning: making col names unique\n"
     ]
    },
    {
     "data": {
      "application/vnd.jupyter.widget-view+json": {
       "model_id": "237d30f1ee7c4d78850a95de085dada4",
       "version_major": 2,
       "version_minor": 0
      },
      "text/plain": [
       "CGM2(network='{\"row_nodes\": [{\"name\": \"Gene: EPHA2\", \"ini\": 252, \"clust\": 35, \"rank\": 39, \"rankvar\": 88, \"cat-…"
      ]
     },
     "metadata": {},
     "output_type": "display_data"
    }
   ],
   "source": [
    "net.load_df(isd_df)\n",
    "\n",
    "net.cluster(dist_type='euclidean', linkage_type='ward')\n",
    "\n",
    "net.widget()"
   ]
  },
  {
   "cell_type": "code",
   "execution_count": null,
   "id": "physical-venue",
   "metadata": {},
   "outputs": [],
   "source": []
  }
 ],
 "metadata": {
  "kernelspec": {
   "display_name": "clustergram",
   "language": "python",
   "name": "clustergram"
  },
  "language_info": {
   "codemirror_mode": {
    "name": "ipython",
    "version": 3
   },
   "file_extension": ".py",
   "mimetype": "text/x-python",
   "name": "python",
   "nbconvert_exporter": "python",
   "pygments_lexer": "ipython3",
   "version": "3.7.3"
  }
 },
 "nbformat": 4,
 "nbformat_minor": 5
}
